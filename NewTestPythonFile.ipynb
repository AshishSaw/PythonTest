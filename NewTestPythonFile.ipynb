def addnum(num1, num2):
    output = num1 + num2
    print(output)


def printnum(num):
    while num <= 100:
        print(num)
        num = num + 1


def addnewnum(a,b,c):
    output = a + b + c
    print(output)



def subtraction(a,b):
    data = a -b
    return data

